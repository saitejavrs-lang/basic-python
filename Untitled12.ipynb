{
  "nbformat": 4,
  "nbformat_minor": 0,
  "metadata": {
    "colab": {
      "provenance": [],
      "authorship_tag": "ABX9TyOxKwSOdxFzc8l8rWC862Of",
      "include_colab_link": true
    },
    "kernelspec": {
      "name": "python3",
      "display_name": "Python 3"
    },
    "language_info": {
      "name": "python"
    }
  },
  "cells": [
    {
      "cell_type": "markdown",
      "metadata": {
        "id": "view-in-github",
        "colab_type": "text"
      },
      "source": [
        "<a href=\"https://colab.research.google.com/github/saitejavrs-lang/basic-python/blob/main/Untitled12.ipynb\" target=\"_parent\"><img src=\"https://colab.research.google.com/assets/colab-badge.svg\" alt=\"Open In Colab\"/></a>"
      ]
    },
    {
      "cell_type": "code",
      "execution_count": null,
      "metadata": {
        "id": "binfS92a85BQ",
        "colab": {
          "base_uri": "https://localhost:8080/"
        },
        "outputId": "3e9eb757-8e24-428c-d431-32b73a0ba3f2"
      },
      "outputs": [
        {
          "output_type": "stream",
          "name": "stdout",
          "text": [
            "saiteja\n"
          ]
        }
      ],
      "source": [
        "#print name\n",
        "print(\"saiteja\")"
      ]
    },
    {
      "cell_type": "code",
      "source": [
        "#print full name\n",
        "a=input(\"enter the first name\")\n",
        "b=input(\"enter the second name\")\n",
        "c=a+b\n",
        "print(c)"
      ],
      "metadata": {
        "colab": {
          "base_uri": "https://localhost:8080/"
        },
        "id": "ILq7fzLo-8go",
        "outputId": "486c0d95-2c61-416b-ba65-3d3a93b409e9"
      },
      "execution_count": null,
      "outputs": [
        {
          "output_type": "stream",
          "name": "stdout",
          "text": [
            "enter the first namesai\n",
            "enter the second nameteja\n",
            "saiteja\n"
          ]
        }
      ]
    },
    {
      "cell_type": "code",
      "source": [
        "#sum of two numbers\n",
        "a=int(input(\"enter the first number\"))\n",
        "b=int(input(\"enter the second number\"))\n",
        "c=a+b\n",
        "c"
      ],
      "metadata": {
        "colab": {
          "base_uri": "https://localhost:8080/"
        },
        "id": "5NIhF1Tp_L_p",
        "outputId": "b24587d8-a509-42cb-c2d2-dcce80600d0f"
      },
      "execution_count": null,
      "outputs": [
        {
          "name": "stdout",
          "output_type": "stream",
          "text": [
            "enter the first number6\n",
            "enter the second number4\n"
          ]
        },
        {
          "output_type": "execute_result",
          "data": {
            "text/plain": [
              "10"
            ]
          },
          "metadata": {},
          "execution_count": 3
        }
      ]
    },
    {
      "cell_type": "code",
      "source": [
        "#swap two numbers without 3rd variable\n",
        "a=int(input(\"enter the first number\"))\n",
        "b=int(input(\"enter the second number\"))\n",
        "a=a+b\n",
        "b=a-b\n",
        "a=a-b\n",
        "print(a,b)"
      ],
      "metadata": {
        "colab": {
          "base_uri": "https://localhost:8080/"
        },
        "id": "apdDCK6S_S4s",
        "outputId": "88705cc5-3688-4356-cc86-d412790fad8f"
      },
      "execution_count": null,
      "outputs": [
        {
          "output_type": "stream",
          "name": "stdout",
          "text": [
            "enter the first number7\n",
            "enter the second number4\n",
            "4 7\n"
          ]
        }
      ]
    },
    {
      "cell_type": "code",
      "source": [
        "#to print primitive datatypes\n",
        "a=5\n",
        "b=1.4\n",
        "c=True\n",
        "print(type(a))\n",
        "print(type(b))\n",
        "print(type(c))\n"
      ],
      "metadata": {
        "colab": {
          "base_uri": "https://localhost:8080/"
        },
        "id": "woy2ZaC1_ZP9",
        "outputId": "d62cda75-a806-445e-f49d-8bfc24b6c2b0"
      },
      "execution_count": null,
      "outputs": [
        {
          "output_type": "stream",
          "name": "stdout",
          "text": [
            "<class 'int'>\n",
            "<class 'float'>\n",
            "<class 'bool'>\n"
          ]
        }
      ]
    },
    {
      "cell_type": "code",
      "source": [
        "#to print non-primitive datatypes\n",
        "a=(1,2,3)\n",
        "b=[1,2,3]\n",
        "c={1,2,3,4,5}\n",
        "d={1:\"a\",2:\"b\"}\n",
        "print(type(a))\n",
        "print(type(b))\n",
        "print(type(c))\n",
        "print(type(d))"
      ],
      "metadata": {
        "colab": {
          "base_uri": "https://localhost:8080/"
        },
        "id": "IEQ3-ZR1_gI2",
        "outputId": "14b8c48d-50fa-4e15-941d-71a33d9807e1"
      },
      "execution_count": null,
      "outputs": [
        {
          "output_type": "stream",
          "name": "stdout",
          "text": [
            "<class 'tuple'>\n",
            "<class 'list'>\n",
            "<class 'set'>\n",
            "<class 'dict'>\n"
          ]
        }
      ]
    },
    {
      "cell_type": "code",
      "source": [
        "#square of a number\n",
        "a=int(input(\"enter the number\"))\n",
        "print(a**2)"
      ],
      "metadata": {
        "colab": {
          "base_uri": "https://localhost:8080/"
        },
        "id": "-N-TnlvJ_nXU",
        "outputId": "32482cc0-093d-42af-a630-bf0002a55d8b"
      },
      "execution_count": null,
      "outputs": [
        {
          "output_type": "stream",
          "name": "stdout",
          "text": [
            "enter the number8\n",
            "64\n"
          ]
        }
      ]
    },
    {
      "cell_type": "code",
      "source": [
        "#average of three numbers\n",
        "a=int(input(\"enter the first number\"))\n",
        "b=int(input(\"enter the second number\"))\n",
        "c=int(input(\"enter the third number\"))\n",
        "print((a+b+c)/3)\n"
      ],
      "metadata": {
        "colab": {
          "base_uri": "https://localhost:8080/"
        },
        "id": "vMFqZTIe_xZ2",
        "outputId": "35bc20b5-d3f6-410e-eb4d-56d9f773d637"
      },
      "execution_count": null,
      "outputs": [
        {
          "output_type": "stream",
          "name": "stdout",
          "text": [
            "enter the first number7\n",
            "enter the second number4\n",
            "enter the third number6\n",
            "5.666666666666667\n"
          ]
        }
      ]
    },
    {
      "cell_type": "code",
      "source": [
        "#take user input and multiply by 10\n",
        "num = int(input(\"Enter a number: \"))\n",
        "result = num * 10\n",
        "print(\"Result after multiplying by 10:\", result)"
      ],
      "metadata": {
        "colab": {
          "base_uri": "https://localhost:8080/"
        },
        "id": "9B8rYDiUAV38",
        "outputId": "2a734580-6652-42b9-ca96-443126a6a270"
      },
      "execution_count": null,
      "outputs": [
        {
          "output_type": "stream",
          "name": "stdout",
          "text": [
            "Enter a number: 8\n",
            "Result after multiplying by 10: 80\n"
          ]
        }
      ]
    },
    {
      "cell_type": "code",
      "source": [
        "# Program to convert minutes to seconds\n",
        "\n",
        "minutes = int(input(\"Enter time in minutes: \"))\n",
        "seconds = minutes * 60\n",
        "print(minutes, \"minutes =\", seconds, \"seconds\")"
      ],
      "metadata": {
        "colab": {
          "base_uri": "https://localhost:8080/"
        },
        "id": "nriVSEBICFjQ",
        "outputId": "8274abf1-cf42-4b9c-f56f-4b6bc3ef2628"
      },
      "execution_count": null,
      "outputs": [
        {
          "output_type": "stream",
          "name": "stdout",
          "text": [
            "Enter time in minutes: 43\n",
            "43 minutes = 2580 seconds\n"
          ]
        }
      ]
    },
    {
      "cell_type": "code",
      "source": [
        "# Program to find largest of three numbers\n",
        "\n",
        "a = float(input(\"Enter first number: \"))\n",
        "b = float(input(\"Enter second number: \"))\n",
        "c = float(input(\"Enter third number: \"))\n",
        "\n",
        "largest = max(a, b, c)\n",
        "print(\"The largest number is:\", largest)"
      ],
      "metadata": {
        "colab": {
          "base_uri": "https://localhost:8080/"
        },
        "id": "uuYmpT7vCOgg",
        "outputId": "6faffef2-4534-43b7-926c-e3f648e21b0c"
      },
      "execution_count": null,
      "outputs": [
        {
          "output_type": "stream",
          "name": "stdout",
          "text": [
            "Enter first number: 5\n",
            "Enter second number: 9\n",
            "Enter third number: 3\n",
            "The largest number is: 9.0\n"
          ]
        }
      ]
    },
    {
      "cell_type": "code",
      "source": [
        "# Program to find sum of first n natural, even, and odd numbers\n",
        "\n",
        "n = int(input(\"Enter a positive integer: \"))\n",
        "\n",
        "# Sum of first n natural numbers\n",
        "sum_natural = n * (n + 1) // 2\n",
        "\n",
        "# Sum of first n even numbers: 2 + 4 + 6 + ... + 2n = n(n+1)\n",
        "sum_even = n * (n + 1)\n",
        "\n",
        "# Sum of first n odd numbers: 1 + 3 + 5 + ... + (2n-1) = n^2\n",
        "sum_odd = n * n\n",
        "\n",
        "print(\"Sum of first\", n, \"natural numbers:\", sum_natural)\n",
        "print(\"Sum of first\", n, \"even numbers:\", sum_even)\n",
        "print(\"Sum of first\", n, \"odd numbers:\", sum_odd)"
      ],
      "metadata": {
        "colab": {
          "base_uri": "https://localhost:8080/"
        },
        "id": "j7_zxQqPCWhg",
        "outputId": "65d30405-ada5-4065-ba9d-7317b34de816"
      },
      "execution_count": null,
      "outputs": [
        {
          "output_type": "stream",
          "name": "stdout",
          "text": [
            "Enter a positive integer: 4\n",
            "Sum of first 4 natural numbers: 10\n",
            "Sum of first 4 even numbers: 20\n",
            "Sum of first 4 odd numbers: 16\n"
          ]
        }
      ]
    },
    {
      "cell_type": "code",
      "source": [
        "# Program to check if number is positive, negative or zero\n",
        "\n",
        "num = float(input(\"Enter a number: \"))\n",
        "\n",
        "if num > 0:\n",
        "    print(\"The number is Positive\")\n",
        "elif num < 0:\n",
        "    print(\"The number is Negative\")\n",
        "else:\n",
        "    print(\"The number is Zero\")"
      ],
      "metadata": {
        "colab": {
          "base_uri": "https://localhost:8080/"
        },
        "id": "_j9UbYXeClfq",
        "outputId": "dc7f7bae-49a5-46c4-e6bc-375751560346"
      },
      "execution_count": null,
      "outputs": [
        {
          "output_type": "stream",
          "name": "stdout",
          "text": [
            "Enter a number: 7\n",
            "The number is Positive\n"
          ]
        }
      ]
    },
    {
      "cell_type": "code",
      "source": [
        "# Program to check odd or even\n",
        "\n",
        "num = int(input(\"Enter an integer: \"))\n",
        "\n",
        "if num % 2 == 0:\n",
        "    print(num, \"is Even\")\n",
        "else:\n",
        "    print(num, \"is Odd\")"
      ],
      "metadata": {
        "colab": {
          "base_uri": "https://localhost:8080/"
        },
        "id": "Ko2ZZPYsCzcF",
        "outputId": "871dcf1d-a238-45f9-dec6-bd19011d3098"
      },
      "execution_count": null,
      "outputs": [
        {
          "output_type": "stream",
          "name": "stdout",
          "text": [
            "Enter an integer: 8\n",
            "8 is Even\n"
          ]
        }
      ]
    },
    {
      "cell_type": "code",
      "source": [
        "# Program to check if number is divisible by 5 and 11\n",
        "\n",
        "num = int(input(\"Enter an integer: \"))\n",
        "\n",
        "if num % 5 == 0 and num % 11 == 0:\n",
        "    print(num, \"is divisible by both 5 and 11\")\n",
        "else:\n",
        "    print(num, \"is NOT divisible by both 5 and 11\")"
      ],
      "metadata": {
        "colab": {
          "base_uri": "https://localhost:8080/"
        },
        "id": "7C1EWO4zC5Fm",
        "outputId": "739cdc1e-1d68-4c02-e71d-a5612b548f36"
      },
      "execution_count": null,
      "outputs": [
        {
          "output_type": "stream",
          "name": "stdout",
          "text": [
            "Enter an integer: 55\n",
            "55 is divisible by both 5 and 11\n"
          ]
        }
      ]
    },
    {
      "cell_type": "code",
      "source": [
        "# Program to check grade using marks\n",
        "\n",
        "marks = int(input(\"Enter your marks (0-100): \"))\n",
        "\n",
        "if marks >= 90:\n",
        "    grade = \"A+\"\n",
        "elif marks >= 80:\n",
        "    grade = \"A\"\n",
        "elif marks >= 70:\n",
        "    grade = \"B\"\n",
        "elif marks >= 60:\n",
        "    grade = \"C\"\n",
        "elif marks >= 50:\n",
        "    grade = \"D\"\n",
        "elif marks >= 35:\n",
        "    grade = \"E\"\n",
        "else:\n",
        "    grade = \"F (Fail)\"\n",
        "\n",
        "print(\"Your Grade is:\", grade)"
      ],
      "metadata": {
        "colab": {
          "base_uri": "https://localhost:8080/"
        },
        "id": "WiJ4kY7IDAQ0",
        "outputId": "a716ffe7-2992-4ed5-f665-6efcfe72d629"
      },
      "execution_count": null,
      "outputs": [
        {
          "output_type": "stream",
          "name": "stdout",
          "text": [
            "Enter your marks (0-100): 98\n",
            "Your Grade is: A+\n"
          ]
        }
      ]
    },
    {
      "cell_type": "code",
      "source": [
        "# Program to check the day of the week\n",
        "\n",
        "day = int(input(\"Enter a number (1-7): \"))\n",
        "\n",
        "if day == 1:\n",
        "    print(\"Sunday\")\n",
        "elif day == 2:\n",
        "    print(\"Monday\")\n",
        "elif day == 3:\n",
        "    print(\"Tuesday\")\n",
        "elif day == 4:\n",
        "    print(\"Wednesday\")\n",
        "elif day == 5:\n",
        "    print(\"Thursday\")\n",
        "elif day == 6:\n",
        "    print(\"Friday\")\n",
        "elif day == 7:\n",
        "    print(\"Saturday\")\n",
        "else:\n",
        "    print(\"Invalid input! Please enter a number between 1 and 7.\")\n",
        "\\"
      ],
      "metadata": {
        "colab": {
          "base_uri": "https://localhost:8080/"
        },
        "id": "AV_X6UC_DHam",
        "outputId": "d62d1beb-e25c-4c62-d3f3-8fa07f23d19a"
      },
      "execution_count": null,
      "outputs": [
        {
          "output_type": "stream",
          "name": "stdout",
          "text": [
            "Enter a number (1-7): 5\n",
            "Thursday\n"
          ]
        }
      ]
    },
    {
      "cell_type": "code",
      "source": [
        "# simple credential check\n",
        "username = input(\"Enter username: \")\n",
        "password = input(\"Enter password: \")\n",
        "\n",
        "correct_user = \"admin\"\n",
        "correct_pass = \"password123\"\n",
        "\n",
        "if username == correct_user and password == correct_pass:\n",
        "    print(\"Login successful ✅\")\n",
        "else:\n",
        "    print(\"Login failed — invalid username or password ❌\")"
      ],
      "metadata": {
        "colab": {
          "base_uri": "https://localhost:8080/"
        },
        "id": "fduqDt-8DYmm",
        "outputId": "cd844f6e-b7a0-4d56-f61d-28bd66c651af"
      },
      "execution_count": null,
      "outputs": [
        {
          "output_type": "stream",
          "name": "stdout",
          "text": [
            "Enter username: admin\n",
            "Enter password: password123\n",
            "Login successful ✅\n"
          ]
        }
      ]
    },
    {
      "cell_type": "code",
      "source": [
        "# Simple Arithmetic Program\n",
        "\n",
        "a = int(input(\"Enter first number: \"))\n",
        "b = int(input(\"Enter second number: \"))\n",
        "\n",
        "print(\"Addition:\", a + b)\n",
        "print(\"Subtraction:\", a - b)\n",
        "print(\"Multiplication:\", a * b)\n",
        "print(\"Division:\", a / b)"
      ],
      "metadata": {
        "colab": {
          "base_uri": "https://localhost:8080/"
        },
        "id": "7rmmqsvdDomN",
        "outputId": "c20b5bb9-8b14-4e1c-d83b-d1d1cfe1a3a6"
      },
      "execution_count": null,
      "outputs": [
        {
          "output_type": "stream",
          "name": "stdout",
          "text": [
            "Enter first number: 5\n",
            "Enter second number: 9\n",
            "Addition: 14\n",
            "Subtraction: -4\n",
            "Multiplication: 45\n",
            "Division: 0.5555555555555556\n"
          ]
        }
      ]
    },
    {
      "cell_type": "code",
      "source": [
        "# Program to check number of days in a month\n",
        "\n",
        "month = int(input(\"Enter month number (1-12): \"))\n",
        "\n",
        "if month == 1 or month == 3 or month == 5 or month == 7 or month == 8 or month == 10 or month == 12:\n",
        "    print(\"31 days\")\n",
        "elif month == 4 or month == 6 or month == 9 or month == 11:\n",
        "    print(\"30 days\")\n",
        "elif month == 2:\n",
        "    print(\"28 or 29 days (February)\")\n",
        "else:\n",
        "    print(\"Invalid month number! Please enter between 1 and 12.\")"
      ],
      "metadata": {
        "colab": {
          "base_uri": "https://localhost:8080/"
        },
        "id": "13MlRE38DwGp",
        "outputId": "b7b4e490-7931-4657-fdee-275f5b22e643"
      },
      "execution_count": null,
      "outputs": [
        {
          "output_type": "stream",
          "name": "stdout",
          "text": [
            "Enter month number (1-12): 4\n",
            "30 days\n"
          ]
        }
      ]
    },
    {
      "cell_type": "code",
      "source": [
        "# Program to check body temperature\n",
        "\n",
        "temp = float(input(\"Enter your body temperature in °C: \"))\n",
        "\n",
        "if temp >= 37.5:\n",
        "    print(\"You have Fever 🤒\")\n",
        "elif 36.0 <= temp < 37.5:\n",
        "    print(\"Your temperature is Normal 🙂\")\n",
        "else:\n",
        "    print(\"You feel Cold 🥶\")\n",
        "\n"
      ],
      "metadata": {
        "colab": {
          "base_uri": "https://localhost:8080/"
        },
        "id": "cxxohXSnD3ab",
        "outputId": "3282aa22-6b3f-48b8-c7e1-fb65f3352fc0"
      },
      "execution_count": null,
      "outputs": [
        {
          "output_type": "stream",
          "name": "stdout",
          "text": [
            "Enter your body temperature in °C: 45\n",
            "You have Fever 🤒\n"
          ]
        }
      ]
    },
    {
      "cell_type": "code",
      "source": [
        "age=int(input(\"enter your age\"))\n",
        "if (age<12):\n",
        "  print (\"child\")\n",
        "elif (age<=19):\n",
        "  print (\"teenage\")\n",
        "else:\n",
        "  print (\"adult\")"
      ],
      "metadata": {
        "colab": {
          "base_uri": "https://localhost:8080/"
        },
        "id": "eqVCVbPkEXqE",
        "outputId": "93100b9b-67b9-48ef-99f2-e6a3c43cd871"
      },
      "execution_count": null,
      "outputs": [
        {
          "output_type": "stream",
          "name": "stdout",
          "text": [
            "enter your age20\n",
            "adult\n"
          ]
        }
      ]
    },
    {
      "cell_type": "code",
      "source": [
        "age=int(input(\"enter your age\"))\n",
        "if (age<12):\n",
        "  print (\"child\")\n",
        "elif (age<=19):\n",
        "  print (\"teenage\")\n",
        "else:\n",
        "  print (\"adult\")"
      ],
      "metadata": {
        "colab": {
          "base_uri": "https://localhost:8080/"
        },
        "id": "nBEZHb90MOBq",
        "outputId": "a6e1bd01-9536-4e99-bdbe-8502b3a1f849"
      },
      "execution_count": null,
      "outputs": [
        {
          "output_type": "stream",
          "name": "stdout",
          "text": [
            "enter your age13\n",
            "teenage\n"
          ]
        }
      ]
    },
    {
      "cell_type": "code",
      "source": [],
      "metadata": {
        "id": "aHzzMLc3NEMX"
      },
      "execution_count": null,
      "outputs": []
    }
  ]
}